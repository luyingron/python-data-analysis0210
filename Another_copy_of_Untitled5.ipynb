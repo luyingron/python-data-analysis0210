{
  "nbformat": 4,
  "nbformat_minor": 0,
  "metadata": {
    "colab": {
      "provenance": [],
      "authorship_tag": "ABX9TyMGWGlh1IDrmcolOJI2zq4w",
      "include_colab_link": true
    },
    "kernelspec": {
      "name": "python3",
      "display_name": "Python 3"
    },
    "language_info": {
      "name": "python"
    }
  },
  "cells": [
    {
      "cell_type": "markdown",
      "metadata": {
        "id": "view-in-github",
        "colab_type": "text"
      },
      "source": [
        "<a href=\"https://colab.research.google.com/github/luyingron/python-data-analysis0210/blob/main/Another_copy_of_Untitled5.ipynb\" target=\"_parent\"><img src=\"https://colab.research.google.com/assets/colab-badge.svg\" alt=\"Open In Colab\"/></a>"
      ]
    },
    {
      "cell_type": "code",
      "execution_count": 1,
      "metadata": {
        "id": "9RkW65YtP56k",
        "colab": {
          "base_uri": "https://localhost:8080/"
        },
        "outputId": "1e65d6ae-e0ac-41b3-e7b3-7f93c0442efa"
      },
      "outputs": [
        {
          "output_type": "stream",
          "name": "stdout",
          "text": [
            "データセット:\n",
            "      Name  Age  Score\n",
            "0    Alice   25     88\n",
            "1      Bob   30     75\n",
            "2  Charlie   35     90\n",
            "3    David   40     85\n",
            "4     Emma   22     95\n",
            "\n",
            "基本統計情報:\n",
            "             Age      Score\n",
            "count   5.000000   5.000000\n",
            "mean   30.400000  86.600000\n",
            "std     7.300685   7.436397\n",
            "min    22.000000  75.000000\n",
            "25%    25.000000  85.000000\n",
            "50%    30.000000  88.000000\n",
            "75%    35.000000  90.000000\n",
            "max    40.000000  95.000000\n",
            "\n",
            "CSVファイル 'data.csv' を作成しました。\n"
          ]
        }
      ],
      "source": [
        "# 課題：Pandasを使った簡単なデータ分析\n",
        "\n",
        "import pandas as pd\n",
        "\n",
        "# サンプルデータ作成\n",
        "data = {\n",
        "    \"Name\": [\"Alice\", \"Bob\", \"Charlie\", \"David\", \"Emma\"],\n",
        "    \"Age\": [25, 30, 35, 40, 22],\n",
        "    \"Score\": [88, 75, 90, 85, 95]\n",
        "}\n",
        "\n",
        "# Pandasデータフレームを作成\n",
        "df = pd.DataFrame(data)\n",
        "\n",
        "# データの表示\n",
        "print(\"データセット:\")\n",
        "print(df)\n",
        "\n",
        "# 基本統計情報\n",
        "print(\"\\n基本統計情報:\")\n",
        "print(df.describe())\n",
        "\n",
        "# CSVファイルとして保存\n",
        "df.to_csv(\"data.csv\", index=False)\n",
        "print(\"\\nCSVファイル 'data.csv' を作成しました。\")\n"
      ]
    }
  ]
}